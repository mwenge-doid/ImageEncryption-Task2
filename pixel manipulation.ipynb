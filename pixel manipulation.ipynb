{
 "cells": [
  {
   "cell_type": "code",
   "execution_count": 5,
   "id": "ae1cf6ec-ec4a-4cf7-8b9e-bef05bf28e3f",
   "metadata": {},
   "outputs": [
    {
     "name": "stdin",
     "output_type": "stream",
     "text": [
      "Encrypt or Decrypt (e/d)?  e\n",
      "Enter image file path (e.g. C:/Users/you/image.jpg):  C:\\Users\\mweng\\OneDrive\\Pictures\\mwenge.jpg.jpg\n",
      "Enter key (0–255):  4\n"
     ]
    },
    {
     "name": "stdout",
     "output_type": "stream",
     "text": [
      "[+] Encrypted image saved as encrypted_mwenge.jpg.jpg\n"
     ]
    }
   ],
   "source": [
    "from PIL import Image\n",
    "import os\n",
    "\n",
    "def encrypt_image(image_path, key):\n",
    "    image = Image.open(image_path)\n",
    "    pixels = image.load()\n",
    "    width, height = image.size\n",
    "\n",
    "    for x in range(width):\n",
    "        for y in range(height):\n",
    "            r, g, b = pixels[x, y]\n",
    "            # XOR each channel with the key\n",
    "            pixels[x, y] = (\n",
    "                r ^ key,\n",
    "                g ^ key,\n",
    "                b ^ key\n",
    "            )\n",
    "\n",
    "    encrypted_path = \"encrypted_\" + os.path.basename(image_path)\n",
    "    image.save(encrypted_path)\n",
    "    print(f\"[+] Encrypted image saved as {encrypted_path}\")\n",
    "    return encrypted_path\n",
    "\n",
    "def decrypt_image(image_path, key):\n",
    "    # XORing again with the same key decrypts the image\n",
    "    return encrypt_image(image_path, key)\n",
    "\n",
    "# === Try it ===\n",
    "if __name__ == \"__main__\":\n",
    "    mode = input(\"Encrypt or Decrypt (e/d)? \").lower()\n",
    "    path = input(\"Enter image file path (e.g. C:/Users/you/image.jpg): \")\n",
    "    key = int(input(\"Enter key (0–255): \"))\n",
    "\n",
    "    if mode == 'e':\n",
    "        encrypt_image(path, key)\n",
    "    elif mode == 'd':\n",
    "        decrypt_image(path, key)\n",
    "    else:\n",
    "        print(\"Invalid option\")\n"
   ]
  },
  {
   "cell_type": "code",
   "execution_count": null,
   "id": "13fc8efd-c472-4075-8955-90eda6417851",
   "metadata": {},
   "outputs": [],
   "source": []
  },
  {
   "cell_type": "code",
   "execution_count": null,
   "id": "05765bbc-be8f-4aa5-a754-f40116f4d0c9",
   "metadata": {},
   "outputs": [],
   "source": []
  }
 ],
 "metadata": {
  "kernelspec": {
   "display_name": "Python 3 (ipykernel)",
   "language": "python",
   "name": "python3"
  },
  "language_info": {
   "codemirror_mode": {
    "name": "ipython",
    "version": 3
   },
   "file_extension": ".py",
   "mimetype": "text/x-python",
   "name": "python",
   "nbconvert_exporter": "python",
   "pygments_lexer": "ipython3",
   "version": "3.12.7"
  }
 },
 "nbformat": 4,
 "nbformat_minor": 5
}
